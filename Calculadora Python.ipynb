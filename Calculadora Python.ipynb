{
 "cells": [
  {
   "cell_type": "code",
   "execution_count": 1,
   "id": "3d4176fb",
   "metadata": {},
   "outputs": [
    {
     "name": "stdout",
     "output_type": "stream",
     "text": [
      "\n",
      "******************* Calculadora em Python *******************\n"
     ]
    }
   ],
   "source": [
    "print(\"\\n******************* Calculadora em Python *******************\")"
   ]
  },
  {
   "cell_type": "code",
   "execution_count": 2,
   "id": "f4fbbeea",
   "metadata": {},
   "outputs": [],
   "source": [
    "# Função Soma\n",
    "\n",
    "def add (a,b):\n",
    "    return a + b"
   ]
  },
  {
   "cell_type": "code",
   "execution_count": 3,
   "id": "0dff8cea",
   "metadata": {},
   "outputs": [],
   "source": [
    "# Função Subtração\n",
    "\n",
    "def subtract (a,b):\n",
    "    return a - b"
   ]
  },
  {
   "cell_type": "code",
   "execution_count": 4,
   "id": "f0b285ff",
   "metadata": {},
   "outputs": [],
   "source": [
    "# Função Multiplicação\n",
    "\n",
    "def multiply (a,b):\n",
    "    return a * b"
   ]
  },
  {
   "cell_type": "code",
   "execution_count": 6,
   "id": "7abf7143",
   "metadata": {},
   "outputs": [],
   "source": [
    "# Função Divisão\n",
    "\n",
    "def divide (a,b):\n",
    "    if b == 0:\n",
    "        print (\"não posso executar essa operação!\")\n",
    "    else:\n",
    "        return a / b"
   ]
  },
  {
   "cell_type": "code",
   "execution_count": 11,
   "id": "3685ce4e",
   "metadata": {},
   "outputs": [
    {
     "name": "stdout",
     "output_type": "stream",
     "text": [
      "Escolha sua operação (+, -, *, /):+\n"
     ]
    }
   ],
   "source": [
    "# Entrada de Dados\n",
    "\n",
    "operação = input(\"Escolha sua operação (+, -, *, /):\")"
   ]
  },
  {
   "cell_type": "code",
   "execution_count": null,
   "id": "74c55892",
   "metadata": {},
   "outputs": [],
   "source": [
    "num1 = int(input(\"\\nDigite o primeiro valor: \"))"
   ]
  },
  {
   "cell_type": "code",
   "execution_count": null,
   "id": "a9acda48",
   "metadata": {},
   "outputs": [],
   "source": [
    "num2 = int(input(\"\\nDigite o segundo valor: \"))"
   ]
  },
  {
   "cell_type": "code",
   "execution_count": 23,
   "id": "443ebd19",
   "metadata": {},
   "outputs": [],
   "source": [
    "if operação == \"+\":\n",
    "    resultado = add(num1, num2)\n",
    "    \n",
    "elif operação == \"-\":\n",
    "    resultado = subtract(num1, num2)\n",
    "\n",
    "elif operação == \"*\":\n",
    "    resultado = multiply(num1,num2)\n",
    "    \n",
    "elif operação == \"/\":\n",
    "    resultado = divide(num1,num2)"
   ]
  },
  {
   "cell_type": "code",
   "execution_count": null,
   "id": "00b19283",
   "metadata": {},
   "outputs": [],
   "source": [
    "print(resultado)"
   ]
  },
  {
   "cell_type": "code",
   "execution_count": null,
   "id": "cf76d660",
   "metadata": {},
   "outputs": [],
   "source": []
  }
 ],
 "metadata": {
  "kernelspec": {
   "display_name": "Python 3 (ipykernel)",
   "language": "python",
   "name": "python3"
  },
  "language_info": {
   "codemirror_mode": {
    "name": "ipython",
    "version": 3
   },
   "file_extension": ".py",
   "mimetype": "text/x-python",
   "name": "python",
   "nbconvert_exporter": "python",
   "pygments_lexer": "ipython3",
   "version": "3.10.9"
  }
 },
 "nbformat": 4,
 "nbformat_minor": 5
}
